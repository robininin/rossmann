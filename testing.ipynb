{
 "cells": [
  {
   "cell_type": "code",
   "execution_count": 1,
   "metadata": {},
   "outputs": [
    {
     "name": "stderr",
     "output_type": "stream",
     "text": [
      "/anaconda3/envs/udacity_tensorflow_py3/lib/python3.5/site-packages/h5py/__init__.py:36: FutureWarning: Conversion of the second argument of issubdtype from `float` to `np.floating` is deprecated. In future, it will be treated as `np.float64 == np.dtype(float).type`.\n",
      "  from ._conv import register_converters as _register_converters\n",
      "Using TensorFlow backend.\n",
      "/anaconda3/envs/udacity_tensorflow_py3/lib/python3.5/importlib/_bootstrap.py:222: RuntimeWarning: compiletime version 3.6 of module 'tensorflow.python.framework.fast_tensor_util' does not match runtime version 3.5\n",
      "  return f(*args, **kwds)\n"
     ]
    }
   ],
   "source": [
    "import pickle\n",
    "import numpy as np\n",
    "import math\n",
    "import pandas as pd\n",
    "from model import NN_with_embedding\n",
    "from keras.models import load_model, model_from_json\n",
    "import keras.backend as K\n",
    "import tensorflow as tf\n",
    "sess = tf.Session()\n",
    "import seaborn as sns\n",
    "import matplotlib.pyplot as plt\n",
    "%matplotlib inline"
   ]
  },
  {
   "cell_type": "code",
   "execution_count": 8,
   "metadata": {},
   "outputs": [],
   "source": [
    "num_network = 1\n",
    "testing = True\n",
    "#if testing is true, will generate prediction.csv on testing set. if it's false, will return the metrics on dummy test set\n",
    "\n",
    "with open(\"X_dummy_test.pickle\",\"rb\") as f:\n",
    "    (X_dummy_test,target_dummy_test) = pickle.load(f)\n",
    "\n",
    "with open(\"X_test.pickle\",\"rb\") as f:\n",
    "    X_test = pickle.load(f)\n",
    "\n",
    "with open(\"X_train.pickle\",\"rb\") as f:\n",
    "    (X_train, target_train) = pickle.load(f)\n",
    "    \n",
    "with open(\"X_all_train.pickle\",\"rb\") as f:\n",
    "    (X_all_train, target_all) = pickle.load(f)\n",
    "\n",
    "with open(\"combined_data_test.pickle\",\"rb\") as f:\n",
    "    df_combined_test = pickle.load(f)"
   ]
  },
  {
   "cell_type": "code",
   "execution_count": 9,
   "metadata": {},
   "outputs": [],
   "source": [
    "models = []\n",
    "\n",
    "for i in range(num_network):\n",
    "    model = load_model(\"/Users/Robin/Desktop/udacity_ml/Rossman_store/robin/models/model_18/model{}.h5\".format(i))\n",
    "    models.append(model)"
   ]
  },
  {
   "cell_type": "code",
   "execution_count": 4,
   "metadata": {},
   "outputs": [],
   "source": [
    "def evaluate(y_pred, y_true):\n",
    "    rmspe = np.sqrt(np.mean(np.square((y_true - y_pred)/y_true)))\n",
    "    accuracy = np.mean(np.abs((y_true-y_pred)/y_true))\n",
    "    return rmspe, accuracy"
   ]
  },
  {
   "cell_type": "code",
   "execution_count": 5,
   "metadata": {},
   "outputs": [],
   "source": [
    "def reverse_log_target(y,target_train):\n",
    "    #target_train was used in NN_with_embedding to come up with max_log_y for normalization\n",
    "    max_log_y = np.max(np.log(target_train))\n",
    "    result = K.exp(y * max_log_y)\n",
    "    return result"
   ]
  },
  {
   "cell_type": "code",
   "execution_count": 6,
   "metadata": {},
   "outputs": [],
   "source": [
    "def plot_result(history):\n",
    "    train_loss = history[\"loss\"]\n",
    "    val_loss = history[\"val_loss\"]\n",
    "    iters = np.array(range(len(train_loss)))+1\n",
    "    plt.figure()\n",
    "    plt.plot(iters, train_loss, 'r', label='train loss')\n",
    "    plt.plot(iters, val_loss, 'g', label='val loss')\n",
    "    plt.grid(True)\n",
    "    plt.xlabel(\"epoch\")\n",
    "    plt.ylabel('loss')\n",
    "    plt.legend(loc=\"upper right\")\n",
    "    plt.show()"
   ]
  },
  {
   "cell_type": "code",
   "execution_count": 18,
   "metadata": {},
   "outputs": [
    {
     "data": {
      "image/png": "[encoded data removed]",
      "text/plain": [
       "<Figure size 432x288 with 1 Axes>"
      ]
     },
     "metadata": {},
     "output_type": "display_data"
    }
   ],
   "source": [
    "with open(\"/Users/Robin/Desktop/udacity_ml/Rossman_store/robin/models/model_10/history.pickle\",\"rb\") as f:\n",
    "    hist = pickle.load(f)\n",
    "sns.set_color_codes(\"pastel\")\n",
    "plot_result(hist[0])"
   ]
  },
  {
   "cell_type": "code",
   "execution_count": 13,
   "metadata": {},
   "outputs": [],
   "source": [
    "if testing:\n",
    "    guesses = []\n",
    "    for i in range(num_network):\n",
    "        guess = reverse_log_target(models[i].predict(X_test),target_all)\n",
    "        guess = guess.eval(session=sess)\n",
    "        guess = guess.astype(int).squeeze()\n",
    "        guess = guess[::-1]\n",
    "        guesses.append(guess)\n",
    "    combined_guess = np.mean(np.array(guesses),axis=0).squeeze()\n",
    "    \n",
    "    #test_open: 0 is not open, 1 is open\n",
    "    test_open = df_combined_test[\"Open\"]\n",
    "    test_open = np.array(test_open).squeeze()\n",
    "    test_open = test_open[::-1]\n",
    "    \n",
    "    with open('predictions.csv', 'w') as f:\n",
    "        f.write('Id,Sales\\n')\n",
    "        for i, record in enumerate(combined_guess):\n",
    "            if test_open[i]:\n",
    "                guessed_sales = record\n",
    "            else:\n",
    "                guessed_sales = 0\n",
    "            f.write('{},{}\\n'.format(i+1, guessed_sales))\n",
    "    \n",
    "else:\n",
    "    guesses = []\n",
    "    for i in range(num_network):\n",
    "        guess = reverse_log_target(models[i].predict(X_dummy_test),target_train)\n",
    "        guess = guess.eval(session=sess)\n",
    "        guess = guess.astype(int).squeeze()\n",
    "        guesses.append(guess)\n",
    "        rmspe, accuracy = evaluate(guess,target_dummy_test)\n",
    "        print(\"Model {} RMSPE: {}, Accuracy: {}\".format(i+1,rmspe,accuracy))\n",
    "    combined_guess = np.mean(np.array(guesses),axis=0).squeeze()\n",
    "    rmspe, accuracy = evaluate(combined_guess,target_dummy_test)\n",
    "    print(\"Combined Model RMSPE: {}, Accuracy: {}\\n\".format(rmspe,accuracy))\n",
    "    display(hist)"
   ]
  },
  {
   "cell_type": "code",
   "execution_count": null,
   "metadata": {},
   "outputs": [],
   "source": []
  }
 ],
 "metadata": {
  "kernelspec": {
   "display_name": "Python 3",
   "language": "python",
   "name": "python3"
  },
  "language_info": {
   "codemirror_mode": {
    "name": "ipython",
    "version": 3
   },
   "file_extension": ".py",
   "mimetype": "text/x-python",
   "name": "python",
   "nbconvert_exporter": "python",
   "pygments_lexer": "ipython3",
   "version": "3.5.5"
  }
 },
 "nbformat": 4,
 "nbformat_minor": 2
}
